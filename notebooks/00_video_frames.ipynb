{
 "cells": [
  {
   "cell_type": "markdown",
   "metadata": {},
   "source": [
    "**Video to frames**"
   ]
  },
  {
   "cell_type": "code",
   "execution_count": 1,
   "metadata": {},
   "outputs": [
    {
     "name": "stdout",
     "output_type": "stream",
     "text": [
      "Debugger is ready. Connect via your IDE.\n"
     ]
    },
    {
     "name": "stderr",
     "output_type": "stream",
     "text": [
      "4.70s - pydev debugger: unable to find translation for: \"vscode-notebook-cell:/c%3A/Users/i.monsalve.rodilla/personal_projects/cv-barrier-reef/notebooks/00_video_frames.ipynb#W3sZmlsZQ%3D%3D\" in [\"c:\\users\\i.monsalve.rodilla\\personal_projects\\cv-barrier-reef\\\", \"c:\\users\\i.monsalve.rodilla\\personal_projects\\cv-barrier-reef\"] (please revise your path mappings).\n",
      "\n"
     ]
    },
    {
     "name": "stdout",
     "output_type": "stream",
     "text": [
      "Debugger connected!\n"
     ]
    }
   ],
   "source": [
    "import debugpy\n",
    "debugpy.listen(5678)\n",
    "print(\"Debugger is ready. Connect via your IDE.\")\n",
    "debugpy.wait_for_client()\n",
    "print(\"Debugger connected!\")"
   ]
  },
  {
   "cell_type": "code",
   "execution_count": 1,
   "metadata": {},
   "outputs": [],
   "source": [
    "import cv2\n",
    "import os\n",
    "from pathlib import Path\n",
    "import sys\n",
    "\n",
    "src_path = Path(\"../src\").resolve()\n",
    "if str(src_path) not in sys.path:\n",
    "    sys.path.insert(0, str(src_path))\n",
    "\n",
    "from video_utils import get_video_properties, extract_frames"
   ]
  },
  {
   "cell_type": "code",
   "execution_count": 2,
   "metadata": {},
   "outputs": [
    {
     "name": "stdout",
     "output_type": "stream",
     "text": [
      "Video properties: {'total_frames': 310, 'fps': 29.61783439490446, 'duration': 10.466666666666667}\n",
      "Extracted 62 frames to ../data/raw/train_video/frames/\n",
      "Saved frames: 62\n"
     ]
    }
   ],
   "source": [
    "video_path = \"../data/raw/train_video/video/trial.mp4\"\n",
    "video_props = get_video_properties(video_path)\n",
    "print(f\"Video properties: {video_props}\")\n",
    "\n",
    "# Frame extraction\n",
    "output_folder = \"../data/raw/train_video/frames/\"\n",
    "frame_skip = 5\n",
    "saved_frames = extract_frames(video_path, output_folder, frame_skip)\n",
    "print(f\"Saved frames: {saved_frames}\")\n"
   ]
  }
 ],
 "metadata": {
  "kernelspec": {
   "display_name": "reef-cv-env",
   "language": "python",
   "name": "python3"
  },
  "language_info": {
   "codemirror_mode": {
    "name": "ipython",
    "version": 3
   },
   "file_extension": ".py",
   "mimetype": "text/x-python",
   "name": "python",
   "nbconvert_exporter": "python",
   "pygments_lexer": "ipython3",
   "version": "3.12.6"
  }
 },
 "nbformat": 4,
 "nbformat_minor": 2
}
