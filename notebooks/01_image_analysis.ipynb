{
 "cells": [
  {
   "cell_type": "markdown",
   "metadata": {},
   "source": [
    "**Libraries**"
   ]
  },
  {
   "cell_type": "code",
   "execution_count": 1,
   "metadata": {},
   "outputs": [],
   "source": [
    "import sys\n",
    "from pathlib import Path\n",
    "\n",
    "src_path = Path(\"../src\").resolve()\n",
    "sys.path.append(str(src_path))\n",
    "\n",
    "from image_utils import count_images, analyze_image_dimensions, calculate_space"
   ]
  },
  {
   "cell_type": "code",
   "execution_count": 4,
   "metadata": {},
   "outputs": [
    {
     "name": "stdout",
     "output_type": "stream",
     "text": [
      "Total images: 23501\n",
      "Image dimensions: {(1280, 720): 50}\n",
      "Total size: 14510.450494766235 MB, Average size: 632.2582573780105 KB, Image count: 23501\n"
     ]
    }
   ],
   "source": [
    "# Folder path\n",
    "image_folder = \"../data/raw/train_images/\"\n",
    "\n",
    "# Count images\n",
    "total_images = count_images(image_folder)\n",
    "print(f\"Total images: {total_images}\")\n",
    "\n",
    "# Analyze dimensions\n",
    "dimensions = analyze_image_dimensions(image_folder, limit=50)\n",
    "print(f\"Image dimensions: {dimensions}\")\n",
    "\n",
    "# Calculate space\n",
    "total_size, avg_size, count = calculate_space(image_folder)\n",
    "print(f\"Total size: {total_size} MB, Average size: {avg_size} KB, Image count: {count}\")"
   ]
  }
 ],
 "metadata": {
  "kernelspec": {
   "display_name": "reef-cv-env",
   "language": "python",
   "name": "python3"
  },
  "language_info": {
   "codemirror_mode": {
    "name": "ipython",
    "version": 3
   },
   "file_extension": ".py",
   "mimetype": "text/x-python",
   "name": "python",
   "nbconvert_exporter": "python",
   "pygments_lexer": "ipython3",
   "version": "3.12.6"
  }
 },
 "nbformat": 4,
 "nbformat_minor": 2
}
