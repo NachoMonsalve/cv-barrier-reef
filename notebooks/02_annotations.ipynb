{
 "cells": [
  {
   "cell_type": "markdown",
   "metadata": {},
   "source": [
    "### **Visualizing images**"
   ]
  },
  {
   "cell_type": "markdown",
   "metadata": {},
   "source": [
    "**Libraries**"
   ]
  },
  {
   "cell_type": "code",
   "execution_count": 1,
   "metadata": {},
   "outputs": [],
   "source": [
    "from pathlib import Path\n",
    "import sys\n",
    "import pandas as pd\n",
    "\n",
    "src_path = Path(\"../src\").resolve()\n",
    "if str(src_path) not in sys.path:\n",
    "    sys.path.insert(0, str(src_path))\n",
    "\n",
    "from annotations_utils import *"
   ]
  },
  {
   "cell_type": "markdown",
   "metadata": {},
   "source": [
    "**Load annotations data**"
   ]
  },
  {
   "cell_type": "code",
   "execution_count": 3,
   "metadata": {},
   "outputs": [],
   "source": [
    "# VOC Dataset\n",
    "annotations_folder = \"../data/raw/train_video/annotations/\"\n",
    "image_folder = \"../data/raw/train_video/frames/\"\n",
    "voc_df = preprocess_voc_annotations(annotations_folder, image_folder)\n",
    "\n",
    "# Reef Dataset\n",
    "csv_path = \"../data/raw/train.csv\"\n",
    "image_folder = \"../data/raw/train_images/\"\n",
    "reef_df = preprocess_reef_annotations(csv_path, image_folder)\n",
    "\n"
   ]
  },
  {
   "cell_type": "code",
   "execution_count": null,
   "metadata": {},
   "outputs": [],
   "source": [
    "visualize_annotations_from_df(voc_df, num_images=2)\n",
    "visualize_annotations_from_df(reef_df, num_images=2)"
   ]
  }
 ],
 "metadata": {
  "kernelspec": {
   "display_name": "reef-cv-env",
   "language": "python",
   "name": "python3"
  },
  "language_info": {
   "codemirror_mode": {
    "name": "ipython",
    "version": 3
   },
   "file_extension": ".py",
   "mimetype": "text/x-python",
   "name": "python",
   "nbconvert_exporter": "python",
   "pygments_lexer": "ipython3",
   "version": "3.12.6"
  }
 },
 "nbformat": 4,
 "nbformat_minor": 2
}
