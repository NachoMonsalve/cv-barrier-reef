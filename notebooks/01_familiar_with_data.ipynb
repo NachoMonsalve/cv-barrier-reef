{
 "cells": [
  {
   "cell_type": "markdown",
   "metadata": {},
   "source": [
    "**Getting familiar with the images**"
   ]
  },
  {
   "cell_type": "code",
   "execution_count": 17,
   "metadata": {},
   "outputs": [],
   "source": [
    "import pandas as pd\n",
    "import os\n",
    "from PIL import Image\n",
    "from collections import Counter\n",
    "from typing import Dict, Tuple"
   ]
  },
  {
   "cell_type": "code",
   "execution_count": 13,
   "metadata": {},
   "outputs": [
    {
     "name": "stdout",
     "output_type": "stream",
     "text": [
      "Total images: 23501\n"
     ]
    }
   ],
   "source": [
    "def count_images(folder: str) -> int: \n",
    "    count = 0\n",
    "    for root, _, files in os.walk(folder): \n",
    "        for file in files: \n",
    "            if file.endswith((\".jpg\", \".png\")):\n",
    "                count += 1\n",
    "    return count\n",
    "\n",
    "folder_path = \"../data/raw/train_images/\"\n",
    "print(f\"Total images: {count_images(folder_path)}\")"
   ]
  },
  {
   "cell_type": "code",
   "execution_count": 18,
   "metadata": {},
   "outputs": [],
   "source": [
    "def analyze_image_dimensions(folder: str, limit: int = 100) -> Dict[Tuple[int, int], int]:\n",
    "    dimensions = Counter()\n",
    "\n",
    "    processed = 0 \n",
    "\n",
    "    for root, _, files in os.walk(folder): \n",
    "        for file in files: \n",
    "            if processed >= limit: \n",
    "                break \n",
    "            if file.endswith((\".jpg\", \".png\")): \n",
    "                img_path = os.path.join(root, file)\n",
    "                with Image.open(img_path) as img: \n",
    "                    dimensions[img.size] += 1\n",
    "                processed += 1\n",
    "        if processed >= limit: \n",
    "            break \n",
    "\n",
    "    return dict(dimensions)"
   ]
  },
  {
   "cell_type": "code",
   "execution_count": 19,
   "metadata": {},
   "outputs": [
    {
     "name": "stdout",
     "output_type": "stream",
     "text": [
      "Image dimensions and counts: {(1280, 720): 500}\n"
     ]
    }
   ],
   "source": [
    "folder_path = \"../data/raw/train_images/\"\n",
    "dimensions = analyze_image_dimensions(folder_path, limit=500)  \n",
    "print(\"Image dimensions and counts:\", dimensions)"
   ]
  },
  {
   "cell_type": "code",
   "execution_count": 20,
   "metadata": {},
   "outputs": [
    {
     "name": "stdout",
     "output_type": "stream",
     "text": [
      "Total size: 14510.45 MB\n",
      "Average image size: 632.26 KB\n",
      "Total number of images: 23501\n"
     ]
    }
   ],
   "source": [
    "import os\n",
    "from typing import Tuple\n",
    "\n",
    "def calculate_space(folder: str) -> Tuple[float, float, int]:\n",
    "\n",
    "    total_size = 0  # Total size in bytes\n",
    "    image_count = 0  # Total number of images\n",
    "\n",
    "    for root, _, files in os.walk(folder):  # Traverse subfolders\n",
    "        for file in files:\n",
    "            if file.endswith((\".jpg\", \".png\", \".jpeg\")):  # Match image extensions\n",
    "                image_count += 1\n",
    "                file_path = os.path.join(root, file)\n",
    "                total_size += os.path.getsize(file_path)  # File size in bytes\n",
    "\n",
    "    total_size_mb = total_size / (1024 * 1024)  # Convert to megabytes\n",
    "    average_size_kb = (total_size / image_count / 1024) if image_count > 0 else 0  # Average size in kilobytes\n",
    "\n",
    "    return total_size_mb, average_size_kb, image_count\n",
    "\n",
    "# Example usage\n",
    "folder_path = \"../data/raw/train_images/\"\n",
    "total_size_mb, average_size_kb, image_count = calculate_space(folder_path)\n",
    "print(f\"Total size: {total_size_mb:.2f} MB\")\n",
    "print(f\"Average image size: {average_size_kb:.2f} KB\")\n",
    "print(f\"Total number of images: {image_count}\")\n"
   ]
  },
  {
   "cell_type": "code",
   "execution_count": 21,
   "metadata": {},
   "outputs": [
    {
     "ename": "ModuleNotFoundError",
     "evalue": "No module named 'matplotlib'",
     "output_type": "error",
     "traceback": [
      "\u001b[1;31m---------------------------------------------------------------------------\u001b[0m",
      "\u001b[1;31mModuleNotFoundError\u001b[0m                       Traceback (most recent call last)",
      "Cell \u001b[1;32mIn[21], line 3\u001b[0m\n\u001b[0;32m      1\u001b[0m \u001b[38;5;28;01mfrom\u001b[39;00m \u001b[38;5;21;01mPIL\u001b[39;00m \u001b[38;5;28;01mimport\u001b[39;00m Image\n\u001b[0;32m      2\u001b[0m \u001b[38;5;28;01mimport\u001b[39;00m \u001b[38;5;21;01mos\u001b[39;00m\n\u001b[1;32m----> 3\u001b[0m \u001b[38;5;28;01mimport\u001b[39;00m \u001b[38;5;21;01mmatplotlib\u001b[39;00m\u001b[38;5;21;01m.\u001b[39;00m\u001b[38;5;21;01mpyplot\u001b[39;00m \u001b[38;5;28;01mas\u001b[39;00m \u001b[38;5;21;01mplt\u001b[39;00m\n\u001b[0;32m      5\u001b[0m \u001b[38;5;28;01mdef\u001b[39;00m \u001b[38;5;21mplot_image\u001b[39m(folder: \u001b[38;5;28mstr\u001b[39m):\n\u001b[0;32m      6\u001b[0m \u001b[38;5;250m    \u001b[39m\u001b[38;5;124;03m\"\"\"Plots one image from the dataset.\u001b[39;00m\n\u001b[0;32m      7\u001b[0m \n\u001b[0;32m      8\u001b[0m \u001b[38;5;124;03m    Args:\u001b[39;00m\n\u001b[0;32m      9\u001b[0m \u001b[38;5;124;03m        folder (str): Path to the folder containing images.\u001b[39;00m\n\u001b[0;32m     10\u001b[0m \u001b[38;5;124;03m    \"\"\"\u001b[39;00m\n",
      "\u001b[1;31mModuleNotFoundError\u001b[0m: No module named 'matplotlib'"
     ]
    }
   ],
   "source": [
    "from PIL import Image\n",
    "import os\n",
    "import matplotlib.pyplot as plt\n",
    "\n",
    "def plot_image(folder: str):\n",
    "    \"\"\"Plots one image from the dataset.\n",
    "\n",
    "    Args:\n",
    "        folder (str): Path to the folder containing images.\n",
    "    \"\"\"\n",
    "    # Find the first image in the folder\n",
    "    for root, _, files in os.walk(folder):\n",
    "        for file in files:\n",
    "            if file.endswith((\".jpg\", \".png\", \".jpeg\")):\n",
    "                img_path = os.path.join(root, file)  # Full path to the image\n",
    "                with Image.open(img_path) as img:  # Open the image\n",
    "                    # Plot the image\n",
    "                    plt.imshow(img)\n",
    "                    plt.axis(\"off\")  # Turn off axes for a cleaner view\n",
    "                    plt.title(f\"Image: {file}\")\n",
    "                    plt.show()\n",
    "                return  # Stop after plotting the first image\n",
    "\n",
    "# Example usage\n",
    "folder_path = \"../data/raw/train_images/\"\n",
    "plot_image(folder_path)\n"
   ]
  }
 ],
 "metadata": {
  "kernelspec": {
   "display_name": "reef-cv-env",
   "language": "python",
   "name": "python3"
  },
  "language_info": {
   "codemirror_mode": {
    "name": "ipython",
    "version": 3
   },
   "file_extension": ".py",
   "mimetype": "text/x-python",
   "name": "python",
   "nbconvert_exporter": "python",
   "pygments_lexer": "ipython3",
   "version": "3.12.6"
  }
 },
 "nbformat": 4,
 "nbformat_minor": 2
}
