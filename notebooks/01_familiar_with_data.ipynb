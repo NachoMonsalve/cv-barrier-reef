{
 "cells": [
  {
   "cell_type": "markdown",
   "metadata": {},
   "source": [
    "**Getting familiar with the images**"
   ]
  },
  {
   "cell_type": "code",
   "execution_count": 23,
   "metadata": {},
   "outputs": [],
   "source": [
    "import sys\n",
    "from pathlib import Path"
   ]
  },
  {
   "cell_type": "code",
   "execution_count": 32,
   "metadata": {},
   "outputs": [
    {
     "name": "stdout",
     "output_type": "stream",
     "text": [
      "C:\\Users\\i.monsalve.rodilla\\personal_projects\\cv-barrier-reef\\data\\raw\\train_images\n"
     ]
    }
   ],
   "source": [
    "import sys\n",
    "from pathlib import Path\n",
    "\n",
    "# Add the src folder to the Python path\n",
    "src_path = Path(\"../src\").resolve()\n",
    "sys.path.append(str(src_path))\n",
    "\n",
    "# Import helper functions\n",
    "from helper import count_images, analyze_image_dimensions, calculate_space\n",
    "\n",
    "from pathlib import Path\n",
    "\n",
    "folder_path = Path(\"../data/raw/train_images/\").resolve()\n",
    "print(folder_path)  # Check the full path\n",
    "\n",
    "\n",
    "# Import helpers\n",
    "from helper import count_images, analyze_image_dimensions, calculate_space"
   ]
  },
  {
   "cell_type": "code",
   "execution_count": 31,
   "metadata": {},
   "outputs": [
    {
     "name": "stdout",
     "output_type": "stream",
     "text": [
      "Total images: 23501\n",
      "Image dimensions and counts: {(1280, 720): 500}\n",
      "Total size: 14510.45 MB\n",
      "Average image size: 632.26 KB\n",
      "Total number of images: 23501\n"
     ]
    }
   ],
   "source": [
    "total_images = count_images(str(folder_path))\n",
    "print(f\"Total images: {total_images}\")\n",
    "\n",
    "# Analyze dimensions\n",
    "dimensions = analyze_image_dimensions(str(folder_path), limit=500)\n",
    "print(\"Image dimensions and counts:\", dimensions)\n",
    "\n",
    "# Calculate space\n",
    "total_size_mb, average_size_kb, image_count = calculate_space(str(folder_path))\n",
    "print(f\"Total size: {total_size_mb:.2f} MB\")\n",
    "print(f\"Average image size: {average_size_kb:.2f} KB\")\n",
    "print(f\"Total number of images: {image_count}\")"
   ]
  }
 ],
 "metadata": {
  "kernelspec": {
   "display_name": "reef-cv-env",
   "language": "python",
   "name": "python3"
  },
  "language_info": {
   "codemirror_mode": {
    "name": "ipython",
    "version": 3
   },
   "file_extension": ".py",
   "mimetype": "text/x-python",
   "name": "python",
   "nbconvert_exporter": "python",
   "pygments_lexer": "ipython3",
   "version": "3.12.6"
  }
 },
 "nbformat": 4,
 "nbformat_minor": 2
}
